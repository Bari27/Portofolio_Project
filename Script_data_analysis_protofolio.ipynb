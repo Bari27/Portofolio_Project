{
 "cells": [
  {
   "cell_type": "code",
   "execution_count": 1,
   "metadata": {},
   "outputs": [],
   "source": [
    "#membuat koneksi untuk python\n",
    "import pandas as pd\n",
    "import psycopg2 as psy\n",
    "\n",
    "kon = psy.connect('host=localhost port=5432 dbname=Covid_Project user=postgres password=kalyanabari')\n"
   ]
  },
  {
   "cell_type": "code",
   "execution_count": null,
   "metadata": {
    "vscode": {
     "languageId": "sql"
    }
   },
   "outputs": [],
   "source": [
    "-- Active: 1660012487192@@localhost@5432@Covid_Project\n",
    "--menamiplkan semua data pada tabel covid_deaths\n",
    "SELECT * FROM covid_deaths\n",
    "limit 10\n",
    "-- SELECT * FROM covid_vaccination\n",
    "-- limit 10"
   ]
  },
  {
   "cell_type": "code",
   "execution_count": null,
   "metadata": {
    "vscode": {
     "languageId": "sql"
    }
   },
   "outputs": [],
   "source": [
    "-- Active: 1660012487192@@localhost@5432@Covid_Project\n",
    "-- melihat jumlah kasus vs jumlah kematian\n",
    "-- melihat persentase jumlah kematian akibat kasus covid\n",
    "SELECT location, date, total_cases,  total_deaths, (total_deaths / total_cases)*100 AS Death_Percentage\n",
    "FROM covid_deaths\n",
    "ORDER BY 1,2\n",
    "--limit 10\n"
   ]
  },
  {
   "cell_type": "code",
   "execution_count": null,
   "metadata": {
    "vscode": {
     "languageId": "sql"
    }
   },
   "outputs": [],
   "source": [
    "-- Active: 1660012487192@@localhost@5432@Covid_Project\n",
    "-- melihat jumlah kasus vs populasi\n",
    "-- menampilkan persentase populasi yang terkena covid\n",
    "\n",
    "SELECT location, date,  total_cases, population, CAST((total_cases/CAST(population AS DECIMAL (13,2))*100) AS DECIMAL) AS Populasi_Terinfeksi_percentage\n",
    "FROM covid_deaths\n",
    "WHERE location = 'World'\n",
    " ORDER BY 1,2\n"
   ]
  },
  {
   "cell_type": "code",
   "execution_count": null,
   "metadata": {
    "vscode": {
     "languageId": "sql"
    }
   },
   "outputs": [],
   "source": [
    "-- Active: 1660012487192@@localhost@5432@Covid_Project\n",
    "-- melihat negara dengan total kasus covid terbanyak\n",
    "\n",
    "SELECT location, population,  MAX(COALESCE(total_cases,0)) AS Negara_Terinfeksi_Tertinggi, MAX(CAST((total_cases/CAST(population AS DECIMAL (13,2))*100) AS DECIMAL)) AS Persentasi_Populasi_Terinfeksi\n",
    "FROM covid_deaths\n",
    "--biar gk ada nullnya\n",
    "--WHERE population IS NOT NULL AND total_cases IS NOT NULL\n",
    "\n",
    "GROUP BY location, population\n",
    "\n",
    "ORDER BY Persentasi_Populasi_Terinfeksi DESC\n"
   ]
  },
  {
   "cell_type": "code",
   "execution_count": 2,
   "metadata": {},
   "outputs": [
    {
     "name": "stderr",
     "output_type": "stream",
     "text": [
      "d:\\ASUS\\Documents\\VSCode folder\\python210_venv\\lib\\site-packages\\pandas\\io\\sql.py:761: UserWarning: pandas only support SQLAlchemy connectable(engine/connection) ordatabase string URI or sqlite3 DBAPI2 connectionother DBAPI2 objects are not tested, please consider using SQLAlchemy\n",
      "  warnings.warn(\n"
     ]
    },
    {
     "name": "stdout",
     "output_type": "stream",
     "text": [
      "                         location  population  negara_terinfeksi_tertinggi  \\\n",
      "0                            Niue      1937.0                            0   \n",
      "1                           Nauru     12512.0                            0   \n",
      "2                    Turkmenistan   6341855.0                            0   \n",
      "3    United States Virgin Islands    100091.0                            0   \n",
      "4                        Pitcairn        47.0                            0   \n",
      "..                            ...         ...                          ...   \n",
      "239                      Tanzania  63588334.0                        37510   \n",
      "240                          Chad  17179740.0                         7432   \n",
      "241                         Niger  25252722.0                         9104   \n",
      "242                         Yemen  32981641.0                        11849   \n",
      "243                   North Korea  25971909.0                            1   \n",
      "\n",
      "     persentasi_populasi_terinfeksi  \n",
      "0                               NaN  \n",
      "1                               NaN  \n",
      "2                               NaN  \n",
      "3                               NaN  \n",
      "4                               NaN  \n",
      "..                              ...  \n",
      "239                        0.058989  \n",
      "240                        0.043260  \n",
      "241                        0.036052  \n",
      "242                        0.035926  \n",
      "243                        0.000004  \n",
      "\n",
      "[244 rows x 4 columns]\n"
     ]
    }
   ],
   "source": [
    "# export data dengan python\n",
    "v1 = pd.read_sql_query(\"SELECT location, population,  MAX(COALESCE(total_cases,0)) AS Negara_Terinfeksi_Tertinggi, MAX(CAST((total_cases/CAST(population AS DECIMAL (13,2))*100) AS DECIMAL)) AS Persentasi_Populasi_Terinfeksi FROM covid_deaths GROUP BY location, population ORDER BY Persentasi_Populasi_Terinfeksi DESC\",kon)\n",
    "print(v1)\n",
    "#export to CSV\n",
    "#v1.to_csv('Persentasi_Populasi_Terinfeksi.csv', index = False)"
   ]
  },
  {
   "cell_type": "code",
   "execution_count": null,
   "metadata": {
    "vscode": {
     "languageId": "sql"
    }
   },
   "outputs": [],
   "source": [
    "-- Active: 1660012487192@@localhost@5432@Covid_Project\n",
    "-- melihat negara dengan total kasus covid terbanyak\n",
    "\n",
    "SELECT location, population, date,  MAX(COALESCE(total_cases,0)) AS Negara_Terinfeksi_Tertinggi, MAX(CAST((total_cases/CAST(population AS DECIMAL (13,2))*100) AS DECIMAL)) AS Persentasi_Populasi_Terinfeksi\n",
    "FROM covid_deaths\n",
    "--biar gk ada nullnya\n",
    "--WHERE population IS NOT NULL AND total_cases IS NOT NULL\n",
    "\n",
    "GROUP BY location, population, date\n",
    "\n",
    "ORDER BY Persentasi_Populasi_Terinfeksi DESC"
   ]
  },
  {
   "cell_type": "code",
   "execution_count": 2,
   "metadata": {},
   "outputs": [
    {
     "name": "stderr",
     "output_type": "stream",
     "text": [
      "d:\\ASUS\\Documents\\VSCode\\Project\\venv\\lib\\site-packages\\pandas\\io\\sql.py:761: UserWarning: pandas only support SQLAlchemy connectable(engine/connection) ordatabase string URI or sqlite3 DBAPI2 connectionother DBAPI2 objects are not tested, please consider using SQLAlchemy\n",
      "  warnings.warn(\n"
     ]
    }
   ],
   "source": [
    "# export data dengan python\n",
    "v2 = pd.read_sql_query(\"SELECT location, population, date,  MAX(COALESCE(total_cases,0)) AS Negara_Terinfeksi_Tertinggi, MAX(CAST((total_cases/CAST(population AS DECIMAL (13,2))*100) AS DECIMAL)) AS Persentasi_Populasi_Terinfeksi FROM covid_deaths GROUP BY location, population, date ORDER BY Persentasi_Populasi_Terinfeksi DESC\",kon)\n",
    "\n",
    "#export to CSV\n",
    "v2.to_csv('Persentasi_Populasi_Terinfeksi_perwaktu.csv', index = False)"
   ]
  },
  {
   "cell_type": "code",
   "execution_count": null,
   "metadata": {
    "vscode": {
     "languageId": "sql"
    }
   },
   "outputs": [],
   "source": [
    "-- Active: 1660012487192@@localhost@5432@Covid_Project\n",
    "-- melihat negara dengan kematian terbanyak\n",
    "SELECT location, MAX(total_deaths) AS totalDeathCount\n",
    "FROM covid_deaths\n",
    "WHERE  total_deaths IS NOT NULL\n",
    "AND location <> continent\n",
    "GROUP BY location\n",
    "ORDER BY totalDeathCount DESC\n",
    "limit 10"
   ]
  },
  {
   "cell_type": "code",
   "execution_count": null,
   "metadata": {
    "vscode": {
     "languageId": "sql"
    }
   },
   "outputs": [],
   "source": [
    "-- Active: 1660012487192@@localhost@5432@Covid_Project\n",
    "-- melihat benua dengan kematian terbanyak\n",
    "SELECT continent, location, MAX(total_deaths) AS totalDeathCount\n",
    "FROM covid_deaths\n",
    "WHERE  continent IS NOT NULL\n",
    "GROUP BY continent, location\n",
    "ORDER BY totalDeathCount DESC\n",
    "--limit 10"
   ]
  },
  {
   "cell_type": "code",
   "execution_count": null,
   "metadata": {
    "vscode": {
     "languageId": "sql"
    }
   },
   "outputs": [],
   "source": [
    "-- Active: 1660012487192@@localhost@5432@Covid_Project\n",
    "SELECT date, total_cases, total_deaths, (total_deaths/total_cases)*100 as kematian_perkasus\n",
    "FROM covid_deaths\n",
    "WHERE  total_cases IS NOT NULL\n",
    "AND total_deaths IS NOT NULL\n",
    "\n"
   ]
  },
  {
   "cell_type": "code",
   "execution_count": null,
   "metadata": {
    "vscode": {
     "languageId": "sql"
    }
   },
   "outputs": [],
   "source": [
    "-- Active: 1660012487192@@localhost@5432@Covid_Project@public\n",
    "--menampilkan persentase kematian berdasarkan kasus baru dan jumlah kematian baru\n",
    "SELECT SUM(COALESCE(new_cases,0)) AS Total_kasus_Covid, \n",
    "SUM(COALESCE(new_deaths,0)) AS Total_Kematian_Baru, \n",
    "SUM(new_deaths)/NULLIF(SUM(new_cases),0) AS Persentase_Kematian\n",
    "FROM covid_deaths\n",
    "ORDER BY 1,2"
   ]
  },
  {
   "cell_type": "code",
   "execution_count": 13,
   "metadata": {},
   "outputs": [
    {
     "name": "stderr",
     "output_type": "stream",
     "text": [
      "d:\\ASUS\\Documents\\VSCode\\Project\\venv\\lib\\site-packages\\pandas\\io\\sql.py:761: UserWarning: pandas only support SQLAlchemy connectable(engine/connection) ordatabase string URI or sqlite3 DBAPI2 connectionother DBAPI2 objects are not tested, please consider using SQLAlchemy\n",
      "  warnings.warn(\n"
     ]
    }
   ],
   "source": [
    "# export data dengan python\n",
    "v3 = pd.read_sql_query(\"SELECT SUM(new_cases) AS Total_kasus_Covid, SUM(new_deaths) AS Total_Kematian_Baru, SUM(new_deaths)/SUM(new_cases) AS Persentase_Kematian FROM covid_deaths ORDER BY 1,2\",kon)\n",
    "\n",
    "#export to CSV\n",
    "v3.to_csv('total_persentase_kematian.csv', index = False)"
   ]
  },
  {
   "cell_type": "code",
   "execution_count": null,
   "metadata": {
    "vscode": {
     "languageId": "sql"
    }
   },
   "outputs": [],
   "source": [
    "-- Active: 1660012487192@@localhost@5432@Covid_Project@public\n",
    "--menampilkan kaseus kematian kovid perbenua\n",
    "SELECT continent,  SUM(new_deaths) as Total_kematian_covid\n",
    "FROM covid_deaths\n",
    "WHERE continent IS NOT NULL\n",
    "GROUP BY continent\n",
    "ORDER BY Total_kematian_covid DESC"
   ]
  },
  {
   "cell_type": "code",
   "execution_count": 3,
   "metadata": {},
   "outputs": [
    {
     "name": "stderr",
     "output_type": "stream",
     "text": [
      "d:\\ASUS\\Documents\\VSCode\\Project\\venv\\lib\\site-packages\\pandas\\io\\sql.py:761: UserWarning: pandas only support SQLAlchemy connectable(engine/connection) ordatabase string URI or sqlite3 DBAPI2 connectionother DBAPI2 objects are not tested, please consider using SQLAlchemy\n",
      "  warnings.warn(\n"
     ]
    }
   ],
   "source": [
    "# export data dengan python\n",
    "v4 = pd.read_sql_query(\"SELECT continent,  SUM(new_deaths) as Total_kematian_covid FROM covid_deaths WHERE continent IS NOT NULL GROUP BY continent ORDER BY Total_kematian_covid DESC\",kon)\n",
    "\n",
    "#export to CSV\n",
    "v4.to_csv('total_persentase_kematian_Perbenua.csv', index = False)"
   ]
  },
  {
   "cell_type": "code",
   "execution_count": null,
   "metadata": {
    "vscode": {
     "languageId": "sql"
    }
   },
   "outputs": [],
   "source": [
    "-- Active: 1660012487192@@localhost@5432@Covid_Project\n",
    "--manampilkan persentasi total kasus baru VS total kasus kematian baru\n",
    "--Nomor Global\n",
    "--by date\n",
    "SELECT date, SUM(COALESCE(new_cases,0)) AS Total_kasus_Covid, \n",
    "SUM(COALESCE(new_deaths,0)) AS Total_Kematian_Baru, \n",
    "SUM(new_deaths)/NULLIF(SUM(new_cases),0) AS Persentase_Kematian\n",
    "FROM covid_deaths\n",
    "GROUP BY date\n",
    "ORDER BY 1,2"
   ]
  },
  {
   "cell_type": "code",
   "execution_count": null,
   "metadata": {
    "vscode": {
     "languageId": "sql"
    }
   },
   "outputs": [],
   "source": [
    "-- Active: 1660012487192@@localhost@5432@Covid_Project\n",
    "--menampilkan tabel covid_vaccinatio\n",
    "SELECT * FROM covid_vaccination"
   ]
  },
  {
   "cell_type": "code",
   "execution_count": null,
   "metadata": {
    "vscode": {
     "languageId": "sql"
    }
   },
   "outputs": [],
   "source": [
    "-- Active: 1660012487192@@localhost@5432@Covid_Project\n",
    "--mengabungkan tabel covid_date dan covid_vaccination\n",
    "SELECT C_deaths.continent, C_deaths.location, C_deaths.date, C_deaths.population, C_vaccin.new_vaccinations,\n",
    "SUM(C_vaccin.new_vaccinations) OVER (PARTITION by C_deaths.location ORDER BY C_deaths.date) AS Jumlah_Orang_Vacin_Perwaktu\n",
    "FROM covid_deaths AS C_deaths\n",
    "FULL OUTER JOIN covid_vaccination AS C_vaccin\n",
    "ON C_deaths.location = C_vaccin.location\n",
    "AND C_deaths.date = C_vaccin.date\n",
    "ORDER BY 2,3"
   ]
  },
  {
   "cell_type": "code",
   "execution_count": null,
   "metadata": {
    "vscode": {
     "languageId": "sql"
    }
   },
   "outputs": [],
   "source": [
    "-- Active: 1660012487192@@localhost@5432@Covid_Project\n",
    "--membuat CTE\n",
    "WITH PopvsVac (continent, location, date, population, new_vaccinations, Jumlah_Orang_Vacin_Perwaktu)\n",
    "AS\n",
    "(\n",
    "SELECT C_deaths.continent, C_deaths.location, C_deaths.date, C_deaths.population, C_vaccin.new_vaccinations,\n",
    "SUM(C_vaccin.new_vaccinations) OVER (PARTITION by C_deaths.location ORDER BY C_deaths.date) AS Jumlah_Orang_Vacin_Perwaktu\n",
    "FROM covid_deaths AS C_deaths\n",
    "FULL OUTER JOIN covid_vaccination AS C_vaccin\n",
    "ON C_deaths.location = C_vaccin.location\n",
    "AND C_deaths.date = C_vaccin.date\n",
    ")\n",
    "\n",
    "SELECT *, (Jumlah_Orang_Vacin_Perwaktu/population)*100 AS Jumlah_vaksin_Per_Popolasi\n",
    "FROM PopvsVac"
   ]
  },
  {
   "cell_type": "code",
   "execution_count": null,
   "metadata": {
    "vscode": {
     "languageId": "sql"
    }
   },
   "outputs": [],
   "source": [
    "-- Active: 1660012487192@@localhost@5432@Covid_Project\n",
    "--membuat TABLE\n",
    "-- CREATE TABLE IF NOT EXISTS public.Presentase_Populasi_Tervaksin\n",
    "-- (\n",
    "--     continent nvarchar(225),\n",
    "--     location nvarchar(225),\n",
    "--     date datetime,\n",
    "--     population numeric,\n",
    "--     new_vaccinations numeric,\n",
    "--     Jumlah_vaksin_Per_Popolasi numeric\n",
    "-- )\n",
    "\n",
    "-- INSERT INTO Presentase_Populasi_Tervaksin\n",
    "-- SELECT C_deaths.continent, C_deaths.location, C_deaths.date, C_deaths.population, C_vaccin.new_vaccinations,\n",
    "-- SUM(C_vaccin.new_vaccinations) OVER (PARTITION by C_deaths.location ORDER BY C_deaths.date) AS Jumlah_Orang_Vacin_Perwaktu\n",
    "-- FROM covid_deaths AS C_deaths\n",
    "-- FULL OUTER JOIN covid_vaccination AS C_vaccin\n",
    "-- ON C_deaths.location = C_vaccin.location\n",
    "-- AND C_deaths.date = C_vaccin.date\n",
    "\n",
    "-- SELECT *, (Jumlah_Orang_Vacin_Perwaktu/population)*100 AS Jumlah_vaksin_Per_Popolasi\n",
    "-- FROM Pesentase_Populasi_Tervaksin\n"
   ]
  },
  {
   "cell_type": "code",
   "execution_count": null,
   "metadata": {
    "vscode": {
     "languageId": "sql"
    }
   },
   "outputs": [],
   "source": [
    "-- Active: 1660012487192@@localhost@5432@Covid_Project\n",
    "--membuat VIEW\n",
    "CREATE VIEW Jumlah_vaksin_Per_Popolasi AS\n",
    "SELECT C_deaths.continent, C_deaths.location, C_deaths.date, C_deaths.population, C_vaccin.new_vaccinations,\n",
    "SUM(C_vaccin.new_vaccinations) OVER (PARTITION by C_deaths.location ORDER BY C_deaths.date) AS Jumlah_Orang_Vacin_Perwaktu\n",
    "FROM covid_deaths AS C_deaths\n",
    "FULL OUTER JOIN covid_vaccination AS C_vaccin\n",
    "ON C_deaths.location = C_vaccin.location\n",
    "AND C_deaths.date = C_vaccin.date"
   ]
  },
  {
   "cell_type": "code",
   "execution_count": null,
   "metadata": {
    "vscode": {
     "languageId": "sql"
    }
   },
   "outputs": [],
   "source": [
    "-- Active: 1660012487192@@localhost@5432@Covid_Project\n",
    "SELECT * FROM Jumlah_vaksin_Per_Popolasi"
   ]
  }
 ],
 "metadata": {
  "kernelspec": {
   "display_name": "Python 3.10.5 ('python210_venv': venv)",
   "language": "python",
   "name": "python3"
  },
  "language_info": {
   "codemirror_mode": {
    "name": "ipython",
    "version": 3
   },
   "file_extension": ".py",
   "mimetype": "text/x-python",
   "name": "python",
   "nbconvert_exporter": "python",
   "pygments_lexer": "ipython3",
   "version": "3.10.5"
  },
  "orig_nbformat": 4,
  "vscode": {
   "interpreter": {
    "hash": "16b3854bc759d82fe4bb9d07d3860f08757a179d90480b58257da899d38e1a28"
   }
  }
 },
 "nbformat": 4,
 "nbformat_minor": 2
}
