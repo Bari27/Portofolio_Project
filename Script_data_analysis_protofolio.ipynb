{
 "cells": [
  {
   "cell_type": "code",
   "execution_count": null,
   "metadata": {
    "vscode": {
     "languageId": "sql"
    }
   },
   "outputs": [],
   "source": [
    "-- Active: 1660012487192@@localhost@5432@Covid_Project\n",
    "SELECT * FROM covid_deaths\n",
    "limit 10\n",
    "-- SELECT * FROM covid_vaccination\n",
    "-- limit 10"
   ]
  },
  {
   "cell_type": "code",
   "execution_count": null,
   "metadata": {
    "vscode": {
     "languageId": "sql"
    }
   },
   "outputs": [],
   "source": [
    "-- Active: 1660012487192@@localhost@5432@Covid_Project\n",
    "SELECT location, date, total_cases, new_cases, total_deaths, population\n",
    "FROM covid_deaths\n",
    "ORDER BY 1,2\n",
    "limit 10"
   ]
  },
  {
   "cell_type": "code",
   "execution_count": null,
   "metadata": {
    "vscode": {
     "languageId": "sql"
    }
   },
   "outputs": [],
   "source": [
    "-- Active: 1660012487192@@localhost@5432@Covid_Project\n",
    "-- melihat jumlah kasus vs jumlah kematian\n",
    "-- melihat persentase jumlah kematian akibat kasus covid\n",
    "SELECT location, date, total_cases,  total_deaths, (total_deaths / total_cases)*100 AS DeathPercentage\n",
    "FROM covid_deaths\n",
    "ORDER BY 1,2\n",
    "limit 10\n"
   ]
  },
  {
   "cell_type": "code",
   "execution_count": null,
   "metadata": {
    "vscode": {
     "languageId": "sql"
    }
   },
   "outputs": [],
   "source": [
    "-- Active: 1660012487192@@localhost@5432@Covid_Project\n",
    "-- melihat jumlah kasus vs populasi\n",
    "-- menampilkan persentase populasi yang terkena covid\n",
    "\n",
    "SELECT location, date,  total_cases, population, CAST((total_cases/CAST(population AS DECIMAL (13,2))*100) AS DECIMAL) AS PopulasiTerinfeksipercentage\n",
    "FROM covid_deaths\n",
    "WHERE location = 'World'\n",
    " ORDER BY 1,2\n"
   ]
  },
  {
   "cell_type": "code",
   "execution_count": null,
   "metadata": {
    "vscode": {
     "languageId": "sql"
    }
   },
   "outputs": [],
   "source": [
    "-- Active: 1660012487192@@localhost@5432@Covid_Project\n",
    "-- melihat negara dengan total kasus covid terbanyak\n",
    "\n",
    "SELECT location, population,  MAX(total_cases) AS HighestInfectionCountries, MAX(CAST((total_cases/CAST(population AS DECIMAL (13,2))*100) AS DECIMAL)) AS persentasepopulasiterinfeksi\n",
    "FROM covid_deaths\n",
    "--biar gk ada nullnya\n",
    "WHERE population IS NOT NULL AND total_cases IS NOT NULL\n",
    "\n",
    "GROUP BY location, population\n",
    "\n",
    "ORDER BY persentasepopulasiterinfeksi DESC\n"
   ]
  },
  {
   "cell_type": "code",
   "execution_count": null,
   "metadata": {
    "vscode": {
     "languageId": "sql"
    }
   },
   "outputs": [],
   "source": [
    "-- Active: 1660012487192@@localhost@5432@Covid_Project\n",
    "-- melihat negara dengan kematian terbanyak\n",
    "SELECT location, MAX(total_deaths) AS totalDeathCount\n",
    "FROM covid_deaths\n",
    "WHERE  total_deaths IS NOT NULL\n",
    "AND location <> continent\n",
    "GROUP BY location\n",
    "ORDER BY totalDeathCount DESC\n",
    "limit 10"
   ]
  },
  {
   "cell_type": "code",
   "execution_count": null,
   "metadata": {
    "vscode": {
     "languageId": "sql"
    }
   },
   "outputs": [],
   "source": [
    "-- Active: 1660012487192@@localhost@5432@Covid_Project\n",
    "-- melihat benua dengan kematian terbanyak\n",
    "SELECT continent, location, MAX(total_deaths) AS totalDeathCount\n",
    "FROM covid_deaths\n",
    "WHERE  continent IS NOT NULL\n",
    "GROUP BY continent, location\n",
    "ORDER BY totalDeathCount DESC\n",
    "--limit 10"
   ]
  },
  {
   "cell_type": "code",
   "execution_count": null,
   "metadata": {
    "vscode": {
     "languageId": "sql"
    }
   },
   "outputs": [],
   "source": [
    "-- Active: 1660012487192@@localhost@5432@Covid_Project\n",
    "SELECT date, total_cases, total_deaths, (total_deaths/total_cases)*100 as kematianperkasus\n",
    "FROM covid_deaths\n",
    "WHERE  total_cases IS NOT NULL\n",
    "AND total_deaths IS NOT NULL\n",
    "\n"
   ]
  },
  {
   "cell_type": "code",
   "execution_count": null,
   "metadata": {
    "vscode": {
     "languageId": "sql"
    }
   },
   "outputs": [],
   "source": [
    "-- Active: 1660012487192@@localhost@5432@Covid_Project\n",
    "--manampilkan persentasi total kasus baru VS total kasus kematian baru\n",
    "--Nomor Global\n",
    "SELECT date, SUM(COALESCE(new_cases,0)) AS Total_kasus_Covid, \n",
    "SUM(COALESCE(new_deaths,0)) AS Total_Kematian_Baru, \n",
    "SUM(new_deaths)/NULLIF(SUM(new_cases),0) AS Persentase_Kematian\n",
    "FROM covid_deaths\n",
    "GROUP BY date\n",
    "ORDER BY 1,2"
   ]
  },
  {
   "cell_type": "code",
   "execution_count": null,
   "metadata": {
    "vscode": {
     "languageId": "sql"
    }
   },
   "outputs": [],
   "source": [
    "-- Active: 1660012487192@@localhost@5432@Covid_Project\n",
    "--menampilkan tabel covid_vaccinatio\n",
    "SELECT * FROM covid_vaccination"
   ]
  },
  {
   "cell_type": "code",
   "execution_count": null,
   "metadata": {
    "vscode": {
     "languageId": "sql"
    }
   },
   "outputs": [],
   "source": [
    "-- Active: 1660012487192@@localhost@5432@Covid_Project\n",
    "--mengabungkan tabel covid_date dan covid_vaccination\n",
    "SELECT C_deaths.continent, C_deaths.location, C_deaths.date, C_deaths.population, C_vaccin.new_vaccinations,\n",
    "SUM(C_vaccin.new_vaccinations) OVER (PARTITION by C_deaths.location ORDER BY C_deaths.date) AS Jumlah_Orang_Vacin_Perwaktu\n",
    "FROM covid_deaths AS C_deaths\n",
    "FULL OUTER JOIN covid_vaccination AS C_vaccin\n",
    "ON C_deaths.location = C_vaccin.location\n",
    "AND C_deaths.date = C_vaccin.date\n",
    "ORDER BY 2,3"
   ]
  },
  {
   "cell_type": "code",
   "execution_count": null,
   "metadata": {
    "vscode": {
     "languageId": "sql"
    }
   },
   "outputs": [],
   "source": [
    "-- Active: 1660012487192@@localhost@5432@Covid_Project\n",
    "--membuat CTE\n",
    "WITH PopvsVac (continent, location, date, population, new_vaccinations, Jumlah_Orang_Vacin_Perwaktu)\n",
    "AS\n",
    "(\n",
    "SELECT C_deaths.continent, C_deaths.location, C_deaths.date, C_deaths.population, C_vaccin.new_vaccinations,\n",
    "SUM(C_vaccin.new_vaccinations) OVER (PARTITION by C_deaths.location ORDER BY C_deaths.date) AS Jumlah_Orang_Vacin_Perwaktu\n",
    "FROM covid_deaths AS C_deaths\n",
    "FULL OUTER JOIN covid_vaccination AS C_vaccin\n",
    "ON C_deaths.location = C_vaccin.location\n",
    "AND C_deaths.date = C_vaccin.date\n",
    ")\n",
    "\n",
    "SELECT *, (Jumlah_Orang_Vacin_Perwaktu/population)*100 AS Jumlah_vaksin_Per_Popolasi\n",
    "FROM PopvsVac"
   ]
  },
  {
   "cell_type": "code",
   "execution_count": null,
   "metadata": {
    "vscode": {
     "languageId": "sql"
    }
   },
   "outputs": [],
   "source": [
    "-- Active: 1660012487192@@localhost@5432@Covid_Project\n",
    "--membuat TABLE\n",
    "-- CREATE TABLE IF NOT EXISTS public.Presentase_Populasi_Tervaksin\n",
    "-- (\n",
    "--     continent nvarchar(225),\n",
    "--     location nvarchar(225),\n",
    "--     date datetime,\n",
    "--     population numeric,\n",
    "--     new_vaccinations numeric,\n",
    "--     Jumlah_vaksin_Per_Popolasi numeric\n",
    "-- )\n",
    "\n",
    "-- INSERT INTO Presentase_Populasi_Tervaksin\n",
    "-- SELECT C_deaths.continent, C_deaths.location, C_deaths.date, C_deaths.population, C_vaccin.new_vaccinations,\n",
    "-- SUM(C_vaccin.new_vaccinations) OVER (PARTITION by C_deaths.location ORDER BY C_deaths.date) AS Jumlah_Orang_Vacin_Perwaktu\n",
    "-- FROM covid_deaths AS C_deaths\n",
    "-- FULL OUTER JOIN covid_vaccination AS C_vaccin\n",
    "-- ON C_deaths.location = C_vaccin.location\n",
    "-- AND C_deaths.date = C_vaccin.date\n",
    "\n",
    "-- SELECT *, (Jumlah_Orang_Vacin_Perwaktu/population)*100 AS Jumlah_vaksin_Per_Popolasi\n",
    "-- FROM Pesentase_Populasi_Tervaksin\n"
   ]
  },
  {
   "cell_type": "code",
   "execution_count": null,
   "metadata": {
    "vscode": {
     "languageId": "sql"
    }
   },
   "outputs": [],
   "source": [
    "-- Active: 1660012487192@@localhost@5432@Covid_Project\n",
    "--membuat VIEW\n",
    "CREATE VIEW Jumlah_vaksin_Per_Popolasi AS\n",
    "SELECT C_deaths.continent, C_deaths.location, C_deaths.date, C_deaths.population, C_vaccin.new_vaccinations,\n",
    "SUM(C_vaccin.new_vaccinations) OVER (PARTITION by C_deaths.location ORDER BY C_deaths.date) AS Jumlah_Orang_Vacin_Perwaktu\n",
    "FROM covid_deaths AS C_deaths\n",
    "FULL OUTER JOIN covid_vaccination AS C_vaccin\n",
    "ON C_deaths.location = C_vaccin.location\n",
    "AND C_deaths.date = C_vaccin.date"
   ]
  },
  {
   "cell_type": "code",
   "execution_count": null,
   "metadata": {
    "vscode": {
     "languageId": "sql"
    }
   },
   "outputs": [],
   "source": [
    "-- Active: 1660012487192@@localhost@5432@Covid_Project\n",
    "SELECT * FROM Jumlah_vaksin_Per_Popolasi"
   ]
  }
 ],
 "metadata": {
  "kernelspec": {
   "display_name": "Python 3.10.5 ('venv': venv)",
   "language": "python",
   "name": "python3"
  },
  "language_info": {
   "codemirror_mode": {
    "name": "ipython",
    "version": 3
   },
   "file_extension": ".py",
   "mimetype": "text/x-python",
   "name": "python",
   "nbconvert_exporter": "python",
   "pygments_lexer": "ipython3",
   "version": "3.10.5"
  },
  "orig_nbformat": 4,
  "vscode": {
   "interpreter": {
    "hash": "fbca1496d78352f64a4870882428ef24b954781e84d137a3b3265ba7ca5c50e7"
   }
  }
 },
 "nbformat": 4,
 "nbformat_minor": 2
}
